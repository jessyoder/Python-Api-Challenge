{
 "cells": [
  {
   "cell_type": "markdown",
   "metadata": {},
   "source": [
    "# WeatherPy\n",
    "----\n",
    "\n",
    "#### Note\n",
    "* Instructions have been included for each segment. You do not have to follow them exactly, but they are included to help you think through the steps."
   ]
  },
  {
   "cell_type": "code",
   "execution_count": null,
   "metadata": {
    "scrolled": true
   },
   "outputs": [],
   "source": [
    "# Dependencies and Setup\n",
    "import matplotlib.pyplot as plt\n",
    "import pandas as pd\n",
    "import numpy as np\n",
    "import requests\n",
    "import time\n",
    "from scipy.stats import linregress\n",
    "import pprint\n",
    "\n",
    "# Import API key\n",
    "from api_keys import weather_api_key\n",
    "\n",
    "# Incorporated citipy to determine city based on latitude and longitude\n",
    "from citipy import citipy\n",
    "\n",
    "# Output File (CSV)\n",
    "output_data_file = \"output_data/cities.csv\"\n",
    "\n",
    "# Range of latitudes and longitudes\n",
    "lat_range = (-90, 90)\n",
    "lng_range = (-180, 180)"
   ]
  },
  {
   "cell_type": "markdown",
   "metadata": {},
   "source": [
    "## Generate Cities List"
   ]
  },
  {
   "cell_type": "code",
   "execution_count": null,
   "metadata": {},
   "outputs": [],
   "source": [
    "# List for holding lat_lngs and cities\n",
    "lat_lngs = []\n",
    "cities = []\n",
    "\n",
    "# Create a set of random lat and lng combinations\n",
    "lats = np.random.uniform(lat_range[0], lat_range[1], size=1500)\n",
    "lngs = np.random.uniform(lng_range[0], lng_range[1], size=1500)\n",
    "lat_lngs = zip(lats, lngs)\n",
    "\n",
    "# Identify nearest city for each lat, lng combination\n",
    "for lat_lng in lat_lngs:\n",
    "    city = citipy.nearest_city(lat_lng[0], lat_lng[1]).city_name\n",
    "    \n",
    "    # If the city is unique, then add it to a our cities list\n",
    "    if city not in cities:\n",
    "        cities.append(city)\n",
    "\n",
    "# Print the city count to confirm sufficient count\n",
    "len(cities)"
   ]
  },
  {
   "cell_type": "code",
   "execution_count": null,
   "metadata": {
    "scrolled": true
   },
   "outputs": [],
   "source": [
    "url = f'http://api.openweathermap.org/data/2.5/weather?q={city}&appid={weather_api_key}'"
   ]
  },
  {
   "cell_type": "markdown",
   "metadata": {},
   "source": [
    "### Perform API Calls\n",
    "* Perform a weather check on each city using a series of successive API calls.\n",
    "* Include a print log of each city as it'sbeing processed (with the city number and city name).\n"
   ]
  },
  {
   "cell_type": "code",
   "execution_count": null,
   "metadata": {},
   "outputs": [],
   "source": [
    "# Count Through Data\n",
    "record = 1\n",
    "set = 1\n",
    "# Create weatherPy dataframe\n",
    "weather_df = pd.DataFrame({'City': cities})\n",
    "weather_df['Lat'] = ''\n",
    "weather_df['Lng'] = ''\n",
    "weather_df['Max Temp'] = ''\n",
    "weather_df['Humidity'] = ''\n",
    "weather_df['Cloudiness'] = ''\n",
    "weather_df['Wind Speed'] = ''\n",
    "weather_df['Country'] = ''\n",
    "weather_df['Date'] = ''\n",
    "print('Beginning Data Retrieval')\n",
    "print('-------------------------------')\n",
    "# Loop through weather_df\n",
    "for index, row in weather_df.iterrows():\n",
    "    city = row['City']\n",
    "    url = f'http://api.openweathermap.org/data/2.5/weather?q={city}&appid={weather_api_key}'\n",
    "    response = requests.get(url).json()\n",
    "    try:\n",
    "        print(f'Processing Record {record} of Set {set} | {city}')\n",
    "        weather_df.loc[index, 'Lat'] = response['coord']['lat']\n",
    "        weather_df.loc[index, 'Lng'] = response[\"coord\"]['lon']\n",
    "        weather_df.loc[index, 'Max Temp'] = response['main'][\"temp_max\"]\n",
    "        weather_df.loc[index, 'Humidity'] = response['main'][\"humidity\"]\n",
    "        weather_df.loc[index, 'Cloudiness'] = response['clouds'][\"all\"]\n",
    "        weather_df.loc[index, 'Wind Speed'] = response['wind'][\"speed\"]\n",
    "        weather_df.loc[index, 'Country'] = response['sys'][\"country\"]\n",
    "        weather_df.loc[index, 'Date'] = response['dt']\n",
    "    except:\n",
    "        print(f'City not found')\n",
    "    record += 1\n",
    "    if record == 51:\n",
    "        record = 1\n",
    "        set += 1\n",
    "print('-------------------------------')\n",
    "print('Data Retrieval Complete')"
   ]
  },
  {
   "cell_type": "markdown",
   "metadata": {},
   "source": [
    "### Convert Raw Data to DataFrame\n",
    "* Export the city data into a .csv.\n",
    "* Display the DataFrame"
   ]
  },
  {
   "cell_type": "code",
   "execution_count": null,
   "metadata": {},
   "outputs": [],
   "source": [
    "weather_df.count()"
   ]
  },
  {
   "cell_type": "code",
   "execution_count": null,
   "metadata": {},
   "outputs": [],
   "source": [
    "weather_df.to_csv('../output_data/weatherpy_city_data.csv')"
   ]
  },
  {
   "cell_type": "code",
   "execution_count": null,
   "metadata": {},
   "outputs": [],
   "source": [
    "weather_df.head()"
   ]
  },
  {
   "cell_type": "markdown",
   "metadata": {},
   "source": [
    "## Inspect the data and remove the cities where the humidity > 100%.\n",
    "----\n",
    "Skip this step if there are no cities that have humidity > 100%. "
   ]
  },
  {
   "cell_type": "code",
   "execution_count": null,
   "metadata": {
    "scrolled": false
   },
   "outputs": [],
   "source": [
    "weather_df[\"Humidity\"] = pd.to_numeric(weather_df[\"Humidity\"])\n",
    "hhcities = weather_df.loc[weather_df[\"Humidity\"] > 100]\n",
    "hhcities\n"
   ]
  },
  {
   "cell_type": "code",
   "execution_count": null,
   "metadata": {},
   "outputs": [],
   "source": [
    "#  Get the indices of cities that have humidity over 100%.\n"
   ]
  },
  {
   "cell_type": "code",
   "execution_count": null,
   "metadata": {},
   "outputs": [],
   "source": [
    "# Make a new DataFrame equal to the city data to drop all humidity outliers by index.\n",
    "# Passing \"inplace=False\" will make a copy of the city_data DataFrame, which we call \"clean_city_data\".\n"
   ]
  },
  {
   "cell_type": "code",
   "execution_count": null,
   "metadata": {},
   "outputs": [],
   "source": [
    "# Extract relevant fields from the data frame\n",
    "\n",
    "\n",
    "# Export the City_Data into a csv\n"
   ]
  },
  {
   "cell_type": "markdown",
   "metadata": {},
   "source": [
    "## Plotting the Data\n",
    "* Use proper labeling of the plots using plot titles (including date of analysis) and axes labels.\n",
    "* Save the plotted figures as .pngs."
   ]
  },
  {
   "cell_type": "code",
   "execution_count": null,
   "metadata": {},
   "outputs": [],
   "source": [
    "weather_df[\"Max Temp\"] = pd.to_numeric(weather_df[\"Max Temp\"])\n",
    "weather_df[\"Lat\"] = pd.to_numeric(weather_df[\"Lat\"])\n",
    "weather_df[\"Cloudiness\"] = pd.to_numeric(weather_df[\"Cloudiness\"])\n",
    "weather_df[\"Wind Speed\"] = pd.to_numeric(weather_df[\"Wind Speed\"])"
   ]
  },
  {
   "cell_type": "markdown",
   "metadata": {},
   "source": [
    "## Latitude vs. Temperature Plot"
   ]
  },
  {
   "cell_type": "code",
   "execution_count": null,
   "metadata": {
    "scrolled": true
   },
   "outputs": [],
   "source": [
    "# Create new database for Scatter Plot\n",
    "lat_vs_temp = weather_df[[\"Lat\", \"Max Temp\"]]\n",
    "\n",
    "# Turn values in \"Max Temp\" into fahrenheit instead of calvin\n",
    "lat_vs_temp[\"Max Temp (F)\"] = lat_vs_temp[\"Max Temp\"] * 9/5 - 459.67"
   ]
  },
  {
   "cell_type": "code",
   "execution_count": null,
   "metadata": {},
   "outputs": [],
   "source": [
    "lat_vs_temp[\"Lat\"] = pd.to_numeric(lat_vs_temp[\"Lat\"])\n",
    "lat_vs_temp[\"Max Temp\"] = pd.to_numeric(lat_vs_temp[\"Max Temp\"])\n",
    "x_axis = lat_vs_temp[\"Lat\"]\n",
    "y_axis = lat_vs_temp[\"Max Temp (F)\"]\n",
    "plt.title(\"City Latitude vs. Max Temperature\")\n",
    "plt.xlabel(\"Latitude\")\n",
    "plt.ylabel(\"Max Temp (F)\")\n",
    "lat_vs_temp_plot = plt.scatter(x_axis, y_axis, edgecolors=\"black\")\n",
    "plt.savefig('../output_data/scatter_temp.png')"
   ]
  },
  {
   "cell_type": "code",
   "execution_count": null,
   "metadata": {},
   "outputs": [],
   "source": [
    "# This plot is showing the changes in maximum temperatures in different cities with different distances from the equator.\n",
    "# This plot shows that the closer the city is to the equator, the higher the maximum temperature gets. (It's hotter closer\n",
    "# to the equator.)"
   ]
  },
  {
   "cell_type": "markdown",
   "metadata": {},
   "source": [
    "## Latitude vs. Humidity Plot"
   ]
  },
  {
   "cell_type": "code",
   "execution_count": null,
   "metadata": {
    "scrolled": true
   },
   "outputs": [],
   "source": [
    "lat_vs_hum = weather_df[[\"Lat\", \"Humidity\"]]\n",
    "x_axis = lat_vs_hum[\"Lat\"]\n",
    "y_axis = lat_vs_hum[\"Humidity\"]\n",
    "plt.title(\"City Latitude vs. Humidity\")\n",
    "plt.xlabel(\"Latitude\")\n",
    "plt.ylabel(\"Humidity\")\n",
    "lat_vs_hum_plot = plt.scatter(x_axis, y_axis, edgecolors=\"black\")\n",
    "plt.savefig('../output_data/scatter_humidity.png')"
   ]
  },
  {
   "cell_type": "code",
   "execution_count": null,
   "metadata": {},
   "outputs": [],
   "source": [
    "# This plot is comparing the humidity to the distance from the equator. The only pattern that I can see with reference to\n",
    "# humidity and latitude is that the humidity is higher the closer the cities are to the equator, and have some lower \n",
    "# numbers as the cities move away from the equator. But it's not as distinct as the temperature plot."
   ]
  },
  {
   "cell_type": "markdown",
   "metadata": {},
   "source": [
    "## Latitude vs. Cloudiness Plot"
   ]
  },
  {
   "cell_type": "code",
   "execution_count": null,
   "metadata": {
    "scrolled": true
   },
   "outputs": [],
   "source": [
    "lat_vs_cloud = weather_df[[\"Lat\", \"Cloudiness\"]]\n",
    "lat_vs_cloud.dtypes\n",
    "x_axis = lat_vs_cloud[\"Lat\"]\n",
    "y_axis = lat_vs_cloud[\"Cloudiness\"]\n",
    "plt.title(\"City Latitude vs. Cloudiness\")\n",
    "plt.xlabel(\"Latitude\")\n",
    "plt.ylabel(\"Cloudiness\")\n",
    "lat_vs_hum_plot = plt.scatter(x_axis, y_axis, edgecolors=\"black\")\n",
    "plt.savefig('../output_data/scatter_clouds.png')"
   ]
  },
  {
   "cell_type": "code",
   "execution_count": null,
   "metadata": {},
   "outputs": [],
   "source": [
    "# This plot is comparint latitude (distance from the equator) to cloudiness. There doesn't seem to be much of a pattern\n",
    "# for this plot, either."
   ]
  },
  {
   "cell_type": "markdown",
   "metadata": {},
   "source": [
    "## Latitude vs. Wind Speed Plot"
   ]
  },
  {
   "cell_type": "code",
   "execution_count": null,
   "metadata": {
    "scrolled": true
   },
   "outputs": [],
   "source": [
    "lat_vs_wind = weather_df[[\"Lat\", \"Wind Speed\"]]\n",
    "x_axis = lat_vs_wind[\"Lat\"]\n",
    "y_axis = lat_vs_wind[\"Wind Speed\"]\n",
    "plt.title(\"City Latitude vs. Wind Speed\")\n",
    "plt.xlabel(\"Latitude\")\n",
    "plt.ylabel(\"Wind Speed\")\n",
    "lat_vs_hum_plot = plt.scatter(x_axis, y_axis, edgecolors=\"black\")\n",
    "plt.savefig('../output_data/scatter_wind.png')"
   ]
  },
  {
   "cell_type": "code",
   "execution_count": null,
   "metadata": {},
   "outputs": [],
   "source": [
    "# This plot shows the comparison of latitude and wind speed. It appears that most of the cities on this plot have lower\n",
    "# wind speeds overall, but there isn't much of a pattern with reference to latitude."
   ]
  },
  {
   "cell_type": "markdown",
   "metadata": {},
   "source": [
    "## Linear Regression"
   ]
  },
  {
   "cell_type": "code",
   "execution_count": null,
   "metadata": {},
   "outputs": [],
   "source": [
    "# OPTIONAL: Create a function to create Linear Regression plots\n",
    "\n",
    "def lin_reg(x_axis, y_axis):\n",
    "   (slope, intercept, rvalue, pvalue, stderr) = linregress(x_axis, y_axis)\n",
    "   regress_values = x_axis * slope + intercept\n",
    "   line_eq = 'y = ' + str(round(slope,2)) + 'x + ' + str(round(intercept,2))\n",
    "   plt.plot(x_axis, regress_values,\"r\")\n",
    "   plt.show()"
   ]
  },
  {
   "cell_type": "code",
   "execution_count": null,
   "metadata": {},
   "outputs": [],
   "source": [
    "# Create Northern and Southern Hemisphere DataFrames\n",
    "north_hemi = weather_df[weather_df['Lat']>1]\n",
    "south_hemi = weather_df[weather_df['Lat']<1]"
   ]
  },
  {
   "cell_type": "markdown",
   "metadata": {},
   "source": [
    "####  Northern Hemisphere - Max Temp vs. Latitude Linear Regression"
   ]
  },
  {
   "cell_type": "code",
   "execution_count": null,
   "metadata": {
    "scrolled": false
   },
   "outputs": [],
   "source": [
    "\n",
    "north_hemi[\"Max Temp (F)\"] = north_hemi[\"Max Temp\"] * 9/5 - 459.67\n",
    "x_axis = north_hemi[\"Lat\"]\n",
    "y_axis = north_hemi[\"Max Temp (F)\"]\n",
    "plt.title(\"Northern Hemisphere Latitude vs. Max Temperature\")\n",
    "plt.xlabel(\"Latitude\")\n",
    "plt.ylabel(\"Max Temp (F)\")\n",
    "lat_vs_temp_plot = plt.scatter(x_axis, y_axis, edgecolors=\"black\")\n",
    "lin_reg(x_axis, y_axis)\n",
    "plt.savefig('../output_data/linreg_ntemp.png')"
   ]
  },
  {
   "cell_type": "code",
   "execution_count": null,
   "metadata": {},
   "outputs": [],
   "source": [
    "# This regression line shows that in the Northern Hemisphere, there is a definite relationship between distance from the \n",
    "# equator and maximum temperature in these areas. The further away from the equator, the lower the max temps."
   ]
  },
  {
   "cell_type": "markdown",
   "metadata": {},
   "source": [
    "####  Southern Hemisphere - Max Temp vs. Latitude Linear Regression"
   ]
  },
  {
   "cell_type": "code",
   "execution_count": null,
   "metadata": {
    "scrolled": true
   },
   "outputs": [],
   "source": [
    "south_hemi[\"Max Temp (F)\"] = south_hemi[\"Max Temp\"] * 9/5 - 459.67\n",
    "x_axis = south_hemi[\"Lat\"]\n",
    "y_axis = south_hemi[\"Max Temp (F)\"]\n",
    "plt.title(\"Southern Hemisphere Latitude vs. Max Temperature\")\n",
    "plt.xlabel(\"Latitude\")\n",
    "plt.ylabel(\"Max Temp (F)\")\n",
    "lat_vs_temp_plot = plt.scatter(x_axis, y_axis, edgecolors=\"black\")\n",
    "lin_reg(x_axis, y_axis)\n",
    "plt.savefig('../output_data/linreg_stemp.png')"
   ]
  },
  {
   "cell_type": "code",
   "execution_count": null,
   "metadata": {},
   "outputs": [],
   "source": [
    "# This regression line shows that in the Southern Hemisphere similarly to the Northern Hemisphere, there is a relationship \n",
    "# between distance from the equator and maximum temperature in these areas. The further away from the equator, the lower \n",
    "# the max temps."
   ]
  },
  {
   "cell_type": "markdown",
   "metadata": {},
   "source": [
    "####  Northern Hemisphere - Humidity (%) vs. Latitude Linear Regression"
   ]
  },
  {
   "cell_type": "code",
   "execution_count": null,
   "metadata": {},
   "outputs": [],
   "source": [
    "x_axis = north_hemi[\"Lat\"]\n",
    "y_axis = north_hemi[\"Humidity\"]\n",
    "plt.title(\"Northern Hemisphere Latitude vs. Humidity\")\n",
    "plt.xlabel(\"Latitude\")\n",
    "plt.ylabel(\"Humidity\")\n",
    "lat_vs_temp_plot = plt.scatter(x_axis, y_axis, edgecolors=\"black\")\n",
    "lin_reg(x_axis, y_axis)\n",
    "plt.savefig('../output_data/linreg_nhumidity.png')"
   ]
  },
  {
   "cell_type": "markdown",
   "metadata": {},
   "source": [
    "####  Southern Hemisphere - Humidity (%) vs. Latitude Linear Regression"
   ]
  },
  {
   "cell_type": "code",
   "execution_count": null,
   "metadata": {},
   "outputs": [],
   "source": [
    "x_axis = south_hemi[\"Lat\"]\n",
    "y_axis = south_hemi[\"Humidity\"]\n",
    "plt.title(\"Southern Hemisphere Latitude vs. Humidity\")\n",
    "plt.xlabel(\"Latitude\")\n",
    "plt.ylabel(\"Humidity\")\n",
    "lat_vs_temp_plot = plt.scatter(x_axis, y_axis, edgecolors=\"black\")\n",
    "lin_reg(x_axis, y_axis)\n",
    "plt.savefig('../output_data/linreg_shumidity.png')"
   ]
  },
  {
   "cell_type": "code",
   "execution_count": null,
   "metadata": {},
   "outputs": [],
   "source": [
    "# These two regression plots show that there is not much of a pattern between distance from the equator and humidity."
   ]
  },
  {
   "cell_type": "markdown",
   "metadata": {},
   "source": [
    "####  Northern Hemisphere - Cloudiness (%) vs. Latitude Linear Regression"
   ]
  },
  {
   "cell_type": "code",
   "execution_count": null,
   "metadata": {
    "scrolled": true
   },
   "outputs": [],
   "source": [
    "x_axis = north_hemi[\"Lat\"]\n",
    "y_axis = north_hemi[\"Cloudiness\"]\n",
    "plt.title(\"Northern Hemisphere Latitude vs. Cloudiness\")\n",
    "plt.xlabel(\"Latitude\")\n",
    "plt.ylabel(\"Cloudiness\")\n",
    "lat_vs_temp_plot = plt.scatter(x_axis, y_axis, edgecolors=\"black\")\n",
    "lin_reg(x_axis, y_axis)\n",
    "plt.savefig('../output_data/linreg_ncloud.png')"
   ]
  },
  {
   "cell_type": "markdown",
   "metadata": {},
   "source": [
    "####  Southern Hemisphere - Cloudiness (%) vs. Latitude Linear Regression"
   ]
  },
  {
   "cell_type": "code",
   "execution_count": null,
   "metadata": {
    "scrolled": true
   },
   "outputs": [],
   "source": [
    "x_axis = south_hemi[\"Lat\"]\n",
    "y_axis = south_hemi[\"Cloudiness\"]\n",
    "plt.title(\"Southern Hemisphere Latitude vs. Cloudiness\")\n",
    "plt.xlabel(\"Latitude\")\n",
    "plt.ylabel(\"Cloudiness\")\n",
    "lat_vs_temp_plot = plt.scatter(x_axis, y_axis, edgecolors=\"black\")\n",
    "lin_reg(x_axis, y_axis)\n",
    "plt.savefig('../output_data/linreg_scloud.png')"
   ]
  },
  {
   "cell_type": "code",
   "execution_count": null,
   "metadata": {},
   "outputs": [],
   "source": [
    "# When you look at the scatter plots for the two hemispheres, the regression plots both show that there is a slight \n",
    "# increase of cloudiness the closer to the equator the city is."
   ]
  },
  {
   "cell_type": "markdown",
   "metadata": {},
   "source": [
    "####  Northern Hemisphere - Wind Speed (mph) vs. Latitude Linear Regression"
   ]
  },
  {
   "cell_type": "code",
   "execution_count": null,
   "metadata": {},
   "outputs": [],
   "source": [
    "x_axis = north_hemi[\"Lat\"]\n",
    "y_axis = north_hemi[\"Wind Speed\"]\n",
    "plt.title(\"Northern Hemisphere Latitude vs. Wind Speed\")\n",
    "plt.xlabel(\"Latitude\")\n",
    "plt.ylabel(\"Wind Speed\")\n",
    "lat_vs_temp_plot = plt.scatter(x_axis, y_axis, edgecolors=\"black\")\n",
    "lin_reg(x_axis, y_axis)\n",
    "plt.savefig('../output_data/linreg_nwind.png')"
   ]
  },
  {
   "cell_type": "markdown",
   "metadata": {},
   "source": [
    "####  Southern Hemisphere - Wind Speed (mph) vs. Latitude Linear Regression"
   ]
  },
  {
   "cell_type": "code",
   "execution_count": null,
   "metadata": {},
   "outputs": [],
   "source": [
    "x_axis = south_hemi[\"Lat\"]\n",
    "y_axis = south_hemi[\"Wind Speed\"]\n",
    "plt.title(\"Northern Hemisphere Latitude vs. Wind Speed\")\n",
    "plt.xlabel(\"Latitude\")\n",
    "plt.ylabel(\"Wind Speed\")\n",
    "lat_vs_temp_plot = plt.scatter(x_axis, y_axis, edgecolors=\"black\")\n",
    "lin_reg(x_axis, y_axis)\n",
    "plt.savefig('../output_data/linreg_swind.png')"
   ]
  },
  {
   "cell_type": "code",
   "execution_count": null,
   "metadata": {},
   "outputs": [],
   "source": [
    "# The two regression charts of the two different hemispheres also show that there is a slight increase of wind speed \n",
    "# the farther away from the equator the cities are.\n",
    "# It is very interesting to see the differences when we look at the two hemispheres separately. The charts did show some\n",
    "# more detail than the over all scatter plots could show."
   ]
  }
 ],
 "metadata": {
  "anaconda-cloud": {},
  "kernel_info": {
   "name": "python3"
  },
  "kernelspec": {
   "display_name": "Python [conda env:pythonData] *",
   "language": "python",
   "name": "conda-env-pythonData-py"
  },
  "language_info": {
   "codemirror_mode": {
    "name": "ipython",
    "version": 3
   },
   "file_extension": ".py",
   "mimetype": "text/x-python",
   "name": "python",
   "nbconvert_exporter": "python",
   "pygments_lexer": "ipython3",
   "version": "3.7.7"
  },
  "latex_envs": {
   "LaTeX_envs_menu_present": true,
   "autoclose": false,
   "autocomplete": true,
   "bibliofile": "biblio.bib",
   "cite_by": "apalike",
   "current_citInitial": 1,
   "eqLabelWithNumbers": true,
   "eqNumInitial": 1,
   "hotkeys": {
    "equation": "Ctrl-E",
    "itemize": "Ctrl-I"
   },
   "labels_anchors": false,
   "latex_user_defs": false,
   "report_style_numbering": false,
   "user_envs_cfg": false
  },
  "nteract": {
   "version": "0.12.3"
  }
 },
 "nbformat": 4,
 "nbformat_minor": 2
}
